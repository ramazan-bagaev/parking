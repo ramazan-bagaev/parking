{
 "cells": [
  {
   "cell_type": "markdown",
   "metadata": {},
   "source": [
    "# Цена парковки\n",
    "\n",
    "### Проект выполнен Багаевым Рамазаном и Толстых Еленой на основе статьи https://arxiv.org/ftp/arxiv/papers/1601/1601.06515.pdf  \n",
    "\n",
    "## Описание задачи\n",
    "\n",
    "###### Введем следующие обозначения:\n",
    "\n",
    "$x$ - доля людей в городе, пользующихся личным транспортом ($x \\in [0, 1]$);                                                   \n",
    "$a$ - постоянные расходы (топливо, плата за парковку и т.д.);                                                                  \n",
    "$p$ - индивидуальная оценка человеком стоимости минуты своего времени в рублях;                                            \n",
    "$T(x)$ - функция, характеризующая то, как пользователи транспортной сети оценивают свои временные затраты на дорогу,          \n",
    "в стандартном виде $T(x) = T_0 + \\gamma x^4$, где $\\gamma$ - некоторый параметр                                                \n",
    "\n",
    "Тогда расходы на пользование личным транспортом можно описать следующей формулой:                                          \n",
    " $A_p(x) = a + p*T(x)$\n",
    " \n",
    "Аналогично ежедневные потери людей, пользующихся общественным транспортом можно записать как                       \n",
    " $B_p(x) = b_1 + p b_2$,                                                                                     \n",
    " где  $b_1$ - постоянные расходы (например, цена билета), $b_2$ - время в пути (считаем постоянным для общественного транспорта)\n",
    " \n",
    " Пусть $p \\in (1, 10) \\frac{руб}{мин}$.   Введем $x(p)$ - долю жителей города, оценивающих минуту своего времени не менее, чем в $p$ рублей.    \n",
    " Будем считать эту зависимость степенной: $x(p) = p^{-\\eta}, \\eta \\in [1, 2]$ \n",
    " \n",
    " При этом, равновесие находится из условия $A_p(x) = B_p(x)$, то есть, в итоге, получаем:\n",
    " \n",
    " $p(x) = \\frac{a - b_1}{b_2 - T(x)}$\n",
    " \n",
    " \n",
    "##### Теперь наложим ограничения на параметры $a$, $b_1$, $b_2$, $T(1)$ и $p$:                                                             \n",
    "1. $b_1 < a$ : цена проезда на общественном транспорте меньше расходов на топливо;                                        \n",
    "2. $T(1) < b_2$: \"на машине всегда быстрее\"   \n",
    "(здесь важно понимать, что оценка времени человеком, использовавшим личный транспорт, не эквивалентна оценке времени человеком, пользовавшимся общественным транспортом из-за учёта комфорта);             \n",
    "3. $a + p_{max} T(1) < b_1 + p_{max} b_2$: как минимум один человек воспользуется личным транспортом;                           \n",
    "4. $a + p_{min} T(0) > b_1 + p_{min} b_2$: как минимум один человек воспользуется общественным транспортом\n",
    "\n",
    "Также мы предполагаем, что люди, принимая решения о том, каким транспортом им сегодня воспользоваться, используют информацию о состоянии на дорогах за предыдущий день. Тогда на $(k + 1)$-ый день доля людей, решивших воспользоваться личным транспортом равна $x^{k + 1} = x(p(x^{k}))$.\n",
    "\n",
    "В случае, когда статистики за предыдущий день нет, человек принимает решение случайно: $x^0 \\sim U[0, 1]$\n",
    " \n",
    " \n",
    " \n",
    " \n",
    " "
   ]
  },
  {
   "cell_type": "markdown",
   "metadata": {},
   "source": [
    "## Расчёты"
   ]
  },
  {
   "cell_type": "code",
   "execution_count": 1,
   "metadata": {},
   "outputs": [],
   "source": [
    "import random\n",
    "from matplotlib import pyplot as plt\n",
    "import numpy as np"
   ]
  },
  {
   "cell_type": "markdown",
   "metadata": {},
   "source": [
    "Определим функции необходимые для расчётов"
   ]
  },
  {
   "cell_type": "code",
   "execution_count": 2,
   "metadata": {},
   "outputs": [],
   "source": [
    "def T(x):\n",
    "    return T0 + gamma * x ** 4\n",
    "def P(x, a):\n",
    "    return (a - b1) / (b2 - T(x))\n",
    "def X(p):\n",
    "    return p ** (-eta)"
   ]
  },
  {
   "cell_type": "code",
   "execution_count": 3,
   "metadata": {},
   "outputs": [],
   "source": [
    "def check():\n",
    "    print(T(1) < b2)"
   ]
  },
  {
   "cell_type": "markdown",
   "metadata": {},
   "source": [
    "Оценим небходимые коэффициенты для Москвы. Размер населения является известной величиной, возьмём её порядка 12 миллионов. "
   ]
  },
  {
   "cell_type": "code",
   "execution_count": 4,
   "metadata": {},
   "outputs": [],
   "source": [
    "N = 12000000\n"
   ]
  },
  {
   "cell_type": "markdown",
   "metadata": {},
   "source": [
    "Время пути в машине в худшем случее порядка ~2 часов, без активного движения ~45 минут."
   ]
  },
  {
   "cell_type": "code",
   "execution_count": 5,
   "metadata": {},
   "outputs": [],
   "source": [
    "gamma = 75\n",
    "T0 = 45"
   ]
  },
  {
   "cell_type": "markdown",
   "metadata": {},
   "source": [
    "Для общественного транспорта"
   ]
  },
  {
   "cell_type": "code",
   "execution_count": 6,
   "metadata": {},
   "outputs": [],
   "source": [
    "b2 = 150\n",
    "b1 = 50"
   ]
  },
  {
   "cell_type": "markdown",
   "metadata": {},
   "source": [
    "Степень в распределении Ципфа-Парето"
   ]
  },
  {
   "cell_type": "code",
   "execution_count": 7,
   "metadata": {},
   "outputs": [],
   "source": [
    "eta = 1"
   ]
  },
  {
   "cell_type": "markdown",
   "metadata": {},
   "source": [
    "Максимальный и минимальный доход"
   ]
  },
  {
   "cell_type": "code",
   "execution_count": 8,
   "metadata": {},
   "outputs": [],
   "source": [
    "pmax = 50\n",
    "pmin = 1"
   ]
  },
  {
   "cell_type": "markdown",
   "metadata": {},
   "source": [
    "Проверим выполняются ли обговорённые условия, для существующих велечин"
   ]
  },
  {
   "cell_type": "code",
   "execution_count": 9,
   "metadata": {},
   "outputs": [
    {
     "name": "stdout",
     "output_type": "stream",
     "text": [
      "True\n"
     ]
    }
   ],
   "source": [
    "check()"
   ]
  },
  {
   "cell_type": "markdown",
   "metadata": {},
   "source": [
    "Функции, которые будут проводить расчёты"
   ]
  },
  {
   "cell_type": "code",
   "execution_count": 10,
   "metadata": {},
   "outputs": [],
   "source": [
    "def carryOnOneExperiment(a):\n",
    "    xprev = -1\n",
    "    xcur = random.random()\n",
    "    counter = 0\n",
    "    tol = 1/N\n",
    "    while(abs(xprev - xcur) > tol):\n",
    "        counter += 1\n",
    "        xprev = xcur\n",
    "        xcur = X(P(xcur, a))\n",
    "    return (counter, xcur)\n"
   ]
  },
  {
   "cell_type": "code",
   "execution_count": 11,
   "metadata": {},
   "outputs": [],
   "source": [
    "def carryOnExperiments(number, a):\n",
    "    experimentDays = 0\n",
    "    x = 0\n",
    "    for i in range(0, number):\n",
    "        res = carryOnOneExperiment(a)\n",
    "        experimentDays += res[0]\n",
    "        x += res[1]\n",
    "    return (experimentDays/number, x/number)"
   ]
  },
  {
   "cell_type": "code",
   "execution_count": 12,
   "metadata": {},
   "outputs": [],
   "source": [
    "def printResult(result):\n",
    "    print(\"В среднем равновесие наступит через {} дней,\".format(result[0]))\n",
    "    print(\"Доля людей на личном транспорте {}%\".format(int(result[1] * 100)))"
   ]
  },
  {
   "cell_type": "markdown",
   "metadata": {},
   "source": [
    "Посмотрим на результаты для фиксированного `a = 200` (размера фиксированого расхода для автомобилистов), удовлетворяющего условиям"
   ]
  },
  {
   "cell_type": "code",
   "execution_count": 13,
   "metadata": {},
   "outputs": [
    {
     "name": "stdout",
     "output_type": "stream",
     "text": [
      "В среднем равновесие наступит через 21.85 дней,\n",
      "Доля людей на личном транспорте 62%\n"
     ]
    }
   ],
   "source": [
    "printResult(carryOnExperiments(100, 200))"
   ]
  },
  {
   "cell_type": "markdown",
   "metadata": {},
   "source": [
    "Определим из условий допустимые значения `a`"
   ]
  },
  {
   "cell_type": "code",
   "execution_count": 14,
   "metadata": {},
   "outputs": [
    {
     "name": "stdout",
     "output_type": "stream",
     "text": [
      "156\n",
      "1549\n"
     ]
    }
   ],
   "source": [
    "amin = b1 + pmin*b2 - pmin*T(0)+1\n",
    "amax = b1 + pmax*b2 - pmax*T(1)-1\n",
    "print(amin)\n",
    "print(amax)"
   ]
  },
  {
   "cell_type": "markdown",
   "metadata": {},
   "source": [
    "Найдём зависимость `x` от `a`"
   ]
  },
  {
   "cell_type": "code",
   "execution_count": 15,
   "metadata": {},
   "outputs": [
    {
     "data": {
      "image/png": "[encoded data removed]",
      "text/plain": [
       "<Figure size 864x432 with 1 Axes>"
      ]
     },
     "metadata": {},
     "output_type": "display_data"
    }
   ],
   "source": [
    "sample = list()\n",
    "a = amin + 10\n",
    "step = 1\n",
    "while(a < amax - 10):\n",
    "    res = carryOnOneExperiment(a)\n",
    "    sample.append((a, res[1]))\n",
    "    a += step\n",
    "a, x = np.array(sample).T\n",
    "plt.figure(figsize=(12, 6))\n",
    "plt.xlim(amin + 10, amax - 10)\n",
    "plt.ylim(0, 1)\n",
    "plt.grid()\n",
    "plt.xlabel('a')\n",
    "plt.ylabel('x')\n",
    "plt.title('x(a)')\n",
    "plt.plot(a, x)\n",
    "plt.show()"
   ]
  },
  {
   "cell_type": "markdown",
   "metadata": {},
   "source": [
    "## Оптимальный тариф"
   ]
  },
  {
   "cell_type": "code",
   "execution_count": 16,
   "metadata": {},
   "outputs": [],
   "source": [
    "def plotL():\n",
    "    plt.figure(figsize=(12, 6))\n",
    "    plt.xlim(amin + 10, amax - 10)\n",
    "    plt.grid()\n",
    "    plt.xlabel('a')\n",
    "    plt.ylabel('L')\n",
    "    plt.title('L(a)')\n",
    "    plt.plot(a, L)\n",
    "    plt.show()\n",
    "    print('Оптимальный тариф: {} рублей'.format(int(a[np.argmin(L)])))"
   ]
  },
  {
   "cell_type": "markdown",
   "metadata": {},
   "source": [
    "Попробуем сначало минизировать расходы населения, $L(a) = \\int_0^1 \\min(a + p(t) T(x(a)), b_1 + p(t) b_2) dt$ $\\rightarrow \\min$ "
   ]
  },
  {
   "cell_type": "code",
   "execution_count": 17,
   "metadata": {},
   "outputs": [],
   "source": [
    "xi = np.linspace(pmax ** (-eta), pmin ** (-eta), 1000)\n",
    "ps = xi ** (-1 / eta)\n",
    "L = np.empty(len(a))\n",
    "for j, (a_, x_) in enumerate(zip(a, x)):\n",
    "    L[j] = np.mean(np.fmin(a_ + ps * T(x_), b1 + ps * b2))"
   ]
  },
  {
   "cell_type": "code",
   "execution_count": 18,
   "metadata": {},
   "outputs": [
    {
     "data": {
      "image/png": "[encoded data removed]",
      "text/plain": [
       "<Figure size 864x432 with 1 Axes>"
      ]
     },
     "metadata": {},
     "output_type": "display_data"
    },
    {
     "name": "stdout",
     "output_type": "stream",
     "text": [
      "Оптимальный тариф: 211 рублей\n"
     ]
    }
   ],
   "source": [
    "plotL()"
   ]
  },
  {
   "cell_type": "markdown",
   "metadata": {},
   "source": [
    "Максимизируем доходы государства, которые представляют собой доходы с парковки и доходы с общественного транспорта"
   ]
  },
  {
   "cell_type": "code",
   "execution_count": 19,
   "metadata": {},
   "outputs": [],
   "source": [
    "L = -x * a -(1-x)*b1"
   ]
  },
  {
   "cell_type": "code",
   "execution_count": 20,
   "metadata": {},
   "outputs": [
    {
     "data": {
      "image/png": "[encoded data removed]",
      "text/plain": [
       "<Figure size 864x432 with 1 Axes>"
      ]
     },
     "metadata": {},
     "output_type": "display_data"
    },
    {
     "name": "stdout",
     "output_type": "stream",
     "text": [
      "Оптимальный тариф: 1538 рублей\n"
     ]
    }
   ],
   "source": [
    "plotL()"
   ]
  },
  {
   "cell_type": "markdown",
   "metadata": {},
   "source": [
    "Представим, что государство также обеспокоенно за трату времени людьми"
   ]
  },
  {
   "cell_type": "code",
   "execution_count": 21,
   "metadata": {},
   "outputs": [],
   "source": [
    "L = -x*a - (1-x)*b1 + (x * T(x) + (1 - x)*b2)"
   ]
  },
  {
   "cell_type": "code",
   "execution_count": 22,
   "metadata": {},
   "outputs": [
    {
     "data": {
      "image/png": "[encoded data removed]",
      "text/plain": [
       "<Figure size 864x432 with 1 Axes>"
      ]
     },
     "metadata": {},
     "output_type": "display_data"
    },
    {
     "name": "stdout",
     "output_type": "stream",
     "text": [
      "Оптимальный тариф: 214 рублей\n"
     ]
    }
   ],
   "source": [
    "plotL()"
   ]
  },
  {
   "cell_type": "markdown",
   "metadata": {},
   "source": [
    "Позволим государству выбирать, насколько рассходы людей важны для них"
   ]
  },
  {
   "cell_type": "code",
   "execution_count": 23,
   "metadata": {},
   "outputs": [],
   "source": [
    "koef = 10\n",
    "L = -x*a - (1-x)*b1 + (x * T(x) + (1 - x)*b2)/koef"
   ]
  },
  {
   "cell_type": "code",
   "execution_count": 24,
   "metadata": {},
   "outputs": [
    {
     "data": {
      "image/png": "[encoded data removed]",
      "text/plain": [
       "<Figure size 864x432 with 1 Axes>"
      ]
     },
     "metadata": {},
     "output_type": "display_data"
    },
    {
     "name": "stdout",
     "output_type": "stream",
     "text": [
      "Оптимальный тариф: 373 рублей\n"
     ]
    }
   ],
   "source": [
    "plotL()"
   ]
  }
 ],
 "metadata": {
  "kernelspec": {
   "display_name": "Python 3",
   "language": "python",
   "name": "python3"
  },
  "language_info": {
   "codemirror_mode": {
    "name": "ipython",
    "version": 3
   },
   "file_extension": ".py",
   "mimetype": "text/x-python",
   "name": "python",
   "nbconvert_exporter": "python",
   "pygments_lexer": "ipython3",
   "version": "3.6.5"
  }
 },
 "nbformat": 4,
 "nbformat_minor": 2
}
